{
 "cells": [
  {
   "cell_type": "markdown",
   "id": "e8b8dc28",
   "metadata": {},
   "source": [
    "# 1. Prerequisites\n",
    "\n",
    "## Software\n",
    "\n",
    "- BUSCO (https://busco.ezlab.org/) (compleasm(https://github.com/huangnengCSU/compleasm), compleasm: a faster and more accurate reimplementation of BUSCO)\n",
    "- RepeatMasker, RepeatModeler (http://www.repeatmasker.org/)\n",
    "- HISAT2 (http://daehwankimlab.github.io/hisat2/)\n",
    "- StringTie (http://ccb.jhu.edu/software/stringtie/)\n",
    "- TransDecoder (https://github.com/TransDecoder/TransDecoder)\n",
    "- BRAKER (https://github.com/Gaius-Augustus/BRAKER)\n",
    "- AUGUSTUS (https://github.com/Gaius-Augustus/Augustus)\n",
    "- GeneMark (http://topaz.gatech.edu/GeneMark/)\n",
    "- BAMTOOLS (https://github.com/pezmaster31/bamtools)\n",
    "- SAMTOOLS (http://www.htslib.org/)\n",
    "- ProtHint (https://github.com/gatech-genemark/ProtHint)\n",
    "- DIAMOND (http://github.com/bbuchfink/diamond/)\n",
    "- NCBI BLAST+ (https://blast.ncbi.nlm.nih.gov/Blast.cgi)\n",
    "- miniprot (https://github.com/lh3/miniprot)\n",
    "- EVidenceModeler (https://github.com/EVidenceModeler/EVidenceModeler/wiki)\n",
    "- PASA (https://github.com/PASApipeline/PASApipeline/wiki)\n",
    "- Blat (http://hgdownload.soe.ucsc.edu/admin/exe/linux.x86_64/blat/blat)\n",
    "- fasta (http://faculty.virginia.edu/wrpearson/fasta/fasta36/fasta-36.3.8g.tar.gz)\n",
    "- gffread (https://github.com/gpertea/gffread)\n",
    "\n",
    "## DataSet\n",
    "\n",
    "- RNA-seq (https://www.ncbi.nlm.nih.gov/sra/)\n",
    "- Homology protein (https://bioinf.uni-greifswald.de/bioinf/partitioned_odb11/)\n"
   ]
  },
  {
   "cell_type": "markdown",
   "id": "94625c1e",
   "metadata": {},
   "source": [
    "# 2. Genome assessment\n",
    "\n",
    "## BUSCO v5\n",
    "\n",
    "Input:\n",
    "\n",
    "- genome.fa\n",
    "- Linage dataset `insecta_odb10`\n"
   ]
  },
  {
   "cell_type": "code",
   "execution_count": null,
   "id": "b3143b86",
   "metadata": {},
   "outputs": [],
   "source": [
    "busco --cpu 28 \\\n",
    "\t-l /gpfs/home/meiyang/opt/insecta_odb10 \\\n",
    "\t-m genome --force -o busco \\\n",
    "\t-i genome.fa \\\n",
    "\t--offline"
   ]
  },
  {
   "cell_type": "code",
   "execution_count": null,
   "id": "639ec2e4",
   "metadata": {},
   "outputs": [],
   "source": [
    "cat out/short_summary.specific.insecta_odb10.out.txt"
   ]
  },
  {
   "cell_type": "markdown",
   "id": "bc86e097",
   "metadata": {},
   "source": [
    "# 3. Repeat annotation and genome mask\n"
   ]
  },
  {
   "cell_type": "markdown",
   "id": "0fa579ac",
   "metadata": {},
   "source": [
    "## 3.1 RepeatModeler v2 & RepeatMasker\n",
    "\n",
    "Input:\n",
    "\n",
    "- genome.fa\n",
    "\n",
    "Output:\n",
    "\n",
    "- genome.fa.masked\n",
    "\n",
    "Building reference repeat database"
   ]
  },
  {
   "cell_type": "code",
   "execution_count": null,
   "id": "4ac593b2",
   "metadata": {},
   "outputs": [],
   "source": [
    "# RepeatMasker\n",
    "famdb.py -i Libraries/RepeatMaskerLib.h5 families -f embl  -a -d Insecta  > Insecta_ad.embl\n",
    "util/buildRMLibFromEMBL.pl Insecta_ad.embl > Insecta_ad.fa\n",
    "\n",
    "# RepeatModeler\n",
    "mkdir 01_RepeatModeler\n",
    "BuildDatabase -name GDB -engine ncbi ../genome.fa > BuildDatabase.log\n",
    "RepeatModeler -engine ncbi -pa 28 -database GDB -LTRStruct > RepeatModele.log\n",
    "cd ../"
   ]
  },
  {
   "cell_type": "markdown",
   "id": "940e2aad",
   "metadata": {},
   "source": [
    "Running RepeatMasker for genome masking"
   ]
  },
  {
   "cell_type": "code",
   "execution_count": null,
   "id": "e59534b0",
   "metadata": {},
   "outputs": [],
   "source": [
    "mkdir 02_RepeatMasker\n",
    "cat 01_RepeatModeler/GDB-families.fa Insecta_ad.fa > repeat_db.fa\n",
    "\n",
    "# RepeatMasker (output: genome.fa.masked)\n",
    "RepeatMasker -xsmall -gff -html -lib repeat_db.fa -pa 28 genome.fa > RepeatMasker.log"
   ]
  },
  {
   "cell_type": "markdown",
   "id": "6207dbfb",
   "metadata": {},
   "source": [
    "## 3.2 EDTA"
   ]
  },
  {
   "cell_type": "code",
   "execution_count": null,
   "id": "11addec8",
   "metadata": {},
   "outputs": [],
   "source": [
    "EDTA.pl --genome female.fa --species others --sensitive 1 --anno 1 --evaluate 1 --threads 30"
   ]
  },
  {
   "cell_type": "markdown",
   "id": "9d1e8b86",
   "metadata": {},
   "source": [
    "# 4. Gene prediction\n",
    "\n",
    "## 4.1 RNA-seq based gene prediction"
   ]
  },
  {
   "cell_type": "markdown",
   "id": "89c95243",
   "metadata": {},
   "source": [
    "### 4.1.1 HISAT2 & StringTie\n",
    "\n",
    "Input:\n",
    "\n",
    "- masked geome (genome.fa.masked)\n",
    "- transcriptome"
   ]
  },
  {
   "cell_type": "code",
   "execution_count": null,
   "id": "5fe0ceda",
   "metadata": {},
   "outputs": [],
   "source": [
    "# Build genome index\n",
    "hisat2-build -p 28 genome.fa genome"
   ]
  },
  {
   "cell_type": "code",
   "execution_count": null,
   "id": "21dc5938",
   "metadata": {},
   "outputs": [],
   "source": [
    "# Mapping to genome\n",
    "# single end\n",
    "# hisat2 -p 28 -x genome --dta -U reads.fq | samtools sort -@ 28 > reads.bam \n",
    "\n",
    "## OR ##\n",
    "\n",
    "# paired end\n",
    "hisat2 -p 28 -x genome --dta -1 reads_1.fq -2 reads_2.fq | samtools sort -@ 28 > reads.bam"
   ]
  },
  {
   "cell_type": "code",
   "execution_count": null,
   "id": "8e63280a",
   "metadata": {},
   "outputs": [],
   "source": [
    "# GTF merging\n",
    "samtools merge -@ 28 merged.bam `ls *bam`\n",
    "stringtie -p 28 -o stringtie.gtf merged.bam\n",
    "\n",
    "## OUTPUT: stringtie.gtf"
   ]
  },
  {
   "cell_type": "markdown",
   "id": "b5cf14c4",
   "metadata": {},
   "source": [
    "### 4.1.2 TransDecoder\n",
    "\n",
    "[TransDecoder Wiki](https://github.com/TransDecoder/TransDecoder/wiki)\n",
    "\n",
    "Input:\n",
    "\n",
    "- masked geome (genome.fa.masked)\n",
    "- stringtie.gtf\n",
    "\n",
    "Predicting coding regions from a transcript fasta file\n",
    "The 'TransDecoder' utility is run on a fasta file containing the target transcript sequences. The simplest usage is as follows:"
   ]
  },
  {
   "cell_type": "code",
   "execution_count": null,
   "id": "01f86b6c",
   "metadata": {},
   "outputs": [],
   "source": [
    "# Construct the transcript fasta file using the genome and the transcripts.gtf\n",
    "util/gtf_genome_to_cdna_fasta.pl stringtie.gtf genome.fa > transcripts.fasta\n",
    "# Convert the transcript structure GTF file to an alignment-GFF3 formatted file (for compatibility)\n",
    "util/gtf_to_alignment_gff3.pl stringtie.gtf > transcripts.gff3\n",
    "\n",
    "# Step 1: extract the long open reading frames\n",
    "TransDecoder.LongOrfs -t transcripts.fasta\n",
    "\n",
    "# Step 2: (optional) homology search.\n",
    "# Optionally, identify ORFs with homology to known proteins via blast or pfam searches.\n",
    "blastp -query transdecoder_dir/longest_orfs.pep -db uniprot_sprot.fasta  -max_target_seqs 1 -outfmt 6 -evalue 1e-5 -num_threads 28 > blastp.outfmt6\n",
    "hmmscan --cpu 28 --domtblout pfam.domtblout Pfam-A.hmm transdecoder_dir/longest_orfs.pep\n",
    "\n",
    "# Step 3: predict the likely coding regions.\n",
    "TransDecoder.Predict -t transcripts.fasta --retain_pfam_hits pfam.domtblout --retain_blastp_hits blastp.outfmt6\n",
    "# Finally, generate a genome-based coding region annotation file.\n",
    "util/cdna_alignment_orf_to_genome_orf.pl transcripts.fasta.transdecoder.gff3 transcripts.gff3 transcripts.fasta > transcripts.fasta.transdecoder.genome.gff3\n",
    "\n",
    "mv transcripts.fasta.transdecoder.genome.gff3 transcript_alignments.gff3\n",
    "\n",
    "## OUTPUT: transcript_alignments.gff3"
   ]
  },
  {
   "cell_type": "markdown",
   "id": "7853ae8a",
   "metadata": {},
   "source": [
    "## 4.2 Ab initio gene prediction\n",
    "\n",
    "### BRAKER v3\n",
    "\n",
    "Input:\n",
    "\n",
    "- masked geome (genome.fa.masked)\n",
    "- homology protein (OrthoDB), Arthropoda.fa\n",
    "\n",
    "Parameters\n",
    "\n",
    "``` bash\n",
    "--species=<species_name>\n",
    "--min_contig, less than genome N50\n",
    "```"
   ]
  },
  {
   "cell_type": "code",
   "execution_count": null,
   "id": "84ff33e3",
   "metadata": {},
   "outputs": [],
   "source": [
    "braker.pl --genome=genome.fa \\\n",
    "\t--species=Sfru \\\n",
    "\t--prot_seq=Arthropoda.fa \\\n",
    "\t--bam=merged.bam \\\n",
    "\t--threads 30 \\\n",
    "\t--gff3 --workingdir=out\n",
    "\n",
    "python gff_rename.py braker.gff3 sfru > gene_predictions.gff3"
   ]
  },
  {
   "cell_type": "markdown",
   "id": "b50bfe50",
   "metadata": {},
   "source": [
    "## 4.3 Homology-based gene prediction\n",
    "\n",
    "### miniprot\n",
    "\n",
    "Input:\n",
    "\n",
    "- masked geome (genome.fa.masked)\n",
    "- homology protein (OrthoDB), Arthropoda.fa"
   ]
  },
  {
   "cell_type": "code",
   "execution_count": null,
   "id": "b314a879",
   "metadata": {},
   "outputs": [],
   "source": [
    "miniprot -t28 -d genome.mpi genome.fa.masked \n",
    "miniprot -It28 --gff genome.mpi protein.fasta > miniprot.gff3\n",
    "\n",
    "## OUTPUT: miniprot.gff3"
   ]
  },
  {
   "cell_type": "markdown",
   "id": "87eff79f",
   "metadata": {},
   "source": [
    "# 5. EVidenceModeler (EVM)\n",
    "\n",
    "Input:\n",
    "\n",
    "- masked geome (genome.fa.masked)\n",
    "- weights.txt\n",
    "- GFF3 file\n",
    "    - gene_predictions.gff3 (from step 4.2)\n",
    "    - protein_alignments.gff3 (from EVidenceModeler)\n",
    "    - transcript_alignments.gff3 (from step 4.1.2)\n",
    "\n",
    "Example of weights.txt\n",
    "\n",
    "```\n",
    "PROTEIN\tminiprot\t5\n",
    "ABINITIO_PREDICTION\tBRAKER3\t10\n",
    "OTHER_PREDICTION\ttransdecoder\t10\n",
    "```"
   ]
  },
  {
   "cell_type": "code",
   "execution_count": null,
   "id": "f993273d",
   "metadata": {},
   "outputs": [],
   "source": [
    "# The gff3 file of miniprot should be reformated.\n",
    "python ~/software/EVidenceModeler-v2.1.0/EvmUtils/misc/miniprot_GFF_2_EVM_alignment_GFF3.py miniprot.gff3 > protein_alignmentss.gff3"
   ]
  },
  {
   "cell_type": "code",
   "execution_count": null,
   "id": "70be9e2f",
   "metadata": {},
   "outputs": [],
   "source": [
    "EVidenceModeler \\\n",
    "\t--sample_id speceis \\\n",
    "\t--genome genome.fa \\\n",
    "\t--weights weights.txt  \\\n",
    "\t--gene_predictions gff/gene_predictions.gff3 \\\n",
    "\t--protein_alignments gff/protein_alignments.gff3 \\\n",
    "\t--transcript_alignments gff/transcript_alignments.gff3 \\\n",
    "\t--segmentSize 100000 --overlapSize 10000 --CPU 20\n"
   ]
  },
  {
   "cell_type": "markdown",
   "id": "eeea4f93",
   "metadata": {},
   "source": [
    "# 6. OGS annotation\n",
    "\n",
    "## 6.1 OGS annotation updates\n",
    "\n",
    "### 6.1.1 PASApipeline\n",
    "\n",
    "- masked geome (genome.fa)\n",
    "- species.evm.gff3\n",
    "- stringtie.gtf"
   ]
  },
  {
   "cell_type": "code",
   "execution_count": null,
   "id": "6535b619",
   "metadata": {},
   "outputs": [],
   "source": [
    "# PASA alignment Assembly\n",
    "util/gtf_genome_to_cdna_fasta.pl stringtie.gtf genome.fa > transcripts.fasta\n",
    "bin/seqclean transcripts.fasta"
   ]
  },
  {
   "cell_type": "markdown",
   "id": "60991259",
   "metadata": {},
   "source": [
    "Transcripts alignments, alignAssembly.config, set up the mysql database name; CPU <= 16"
   ]
  },
  {
   "cell_type": "code",
   "execution_count": null,
   "id": "64887e82",
   "metadata": {},
   "outputs": [],
   "source": [
    "Launch_PASA_pipeline.pl -c alignAssembly.config -C -R -g genome.fa -t transcripts.fasta.clean -T -u transcripts.fasta --ALIGNERS blat --CPU 16\n",
    "\n",
    "# two cycles !!! of annotation loading, annotation comparison, and annotation updates\n",
    "# check gff3\n",
    "misc_utilities/pasa_gff3_validator.pl species.evm.gff3\n",
    "\n",
    "# load annotation\n",
    "scripts/Load_Current_Gene_Annotations.dbi -c alignAssembly.config -g genome.fa -P species.evm.gff3\n",
    "\n",
    "# update\n",
    "# annotCompare.config, set up the mysql database name same as alignAssembly.config\n",
    "Launch_PASA_pipeline.pl -c annotCompare.config -A -g genome.fa -t transcripts.fasta.clean"
   ]
  },
  {
   "cell_type": "markdown",
   "id": "b428ffc2",
   "metadata": {},
   "source": [
    "### 6.1.2 peaks2utr"
   ]
  },
  {
   "cell_type": "code",
   "execution_count": null,
   "id": "764fab0d",
   "metadata": {},
   "outputs": [],
   "source": [
    "peaks2utr -p 20 species.evm.gff3 merged.bam"
   ]
  },
  {
   "cell_type": "markdown",
   "id": "aa65683e",
   "metadata": {},
   "source": [
    "## 6.2 Collect GFF, cds, PEP\n",
    "\n",
    "Input:\n",
    "\n",
    "- gene_structures_post_PASA_updates.gff3\n",
    "\n",
    "Output:\n",
    "\n",
    "- Sfru.gff3 (Sfru_no_alt.gff3)\n",
    "- cds.fa (cds_no_alt.fa)\n",
    "- pep.fa (pep_no_alt.fa)"
   ]
  },
  {
   "cell_type": "code",
   "execution_count": null,
   "id": "b6417ee0",
   "metadata": {},
   "outputs": [],
   "source": [
    "# rename gff3\n",
    "# species name, Sfru\n",
    "python gff_rename.py gene_structures_post_PASA_updates.gff3 Sfru > Sfru.gff3\n",
    "\n",
    "# collect\n",
    "gffread Sfru.gff3 -g genome.fa -x Sfru_cds.fa -y Sfru_pep.fa\n",
    "\n",
    "# collect no alt gff, cds, pep \n",
    "python Collect_no_alt.py pep.fa cds.fa Sfru.gff3\n",
    "# no_alt.gff3, cds_no_alt.fa, pep_no_alt.fa"
   ]
  },
  {
   "cell_type": "markdown",
   "id": "e2f30777",
   "metadata": {},
   "source": [
    "## 6.3 Function annotation\n",
    "\n",
    "eggNOG-mapper\n",
    "\n",
    "pep_no_alt.fa\n",
    "\n",
    "http://eggnog-mapper.embl.de/\n",
    "\n",
    "PANNZER\n",
    "http://ekhidna2.biocenter.helsinki.fi/sanspanz/"
   ]
  }
 ],
 "metadata": {
  "language_info": {
   "name": "python"
  }
 },
 "nbformat": 4,
 "nbformat_minor": 5
}
